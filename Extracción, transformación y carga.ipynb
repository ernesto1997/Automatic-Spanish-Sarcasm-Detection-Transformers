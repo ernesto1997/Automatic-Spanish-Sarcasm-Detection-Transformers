{
 "cells": [
  {
   "cell_type": "markdown",
   "id": "55653224",
   "metadata": {},
   "source": [
    "# Extracción, transformación y carga\n",
    "### Detección automática de sarcasmos en textos utilizando Transformers\n",
    "#### Ernesto Francisco Barrionuevo Aragonés 21727751"
   ]
  },
  {
   "cell_type": "code",
   "execution_count": 1,
   "id": "cb8c3b33",
   "metadata": {},
   "outputs": [],
   "source": [
    "import pandas as pd\n",
    "import os\n",
    "from sklearn.model_selection import train_test_split"
   ]
  },
  {
   "cell_type": "markdown",
   "id": "f58301e4",
   "metadata": {},
   "source": [
    "Para la extraccion, se realizara en dos pasos. El primero para todas las frases obtenidas por inteligencia artificial y el segundo para el resto (Dialogos y noticias)"
   ]
  },
  {
   "cell_type": "markdown",
   "id": "c084b0b7",
   "metadata": {},
   "source": [
    "#### Frases obtenidas con inteligencia artificial"
   ]
  },
  {
   "cell_type": "markdown",
   "id": "1e28b52b",
   "metadata": {},
   "source": [
    "Se unen todos los archivos CSV en un solo DataFrame y añade una columna 'sarcasmos'."
   ]
  },
  {
   "cell_type": "code",
   "execution_count": 2,
   "id": "7a1aacc9",
   "metadata": {},
   "outputs": [
    {
     "name": "stdout",
     "output_type": "stream",
     "text": [
      "                                               Texto  Sarcasmo\n",
      "0  El fin de semana pasado salí con mis amigos y ...         0\n",
      "1  Me encanta reunirme con mis amigos para ponern...         0\n",
      "2  Este sábado tengo una quedada con amigos y est...         0\n",
      "3  Siempre que nos reunimos con mis amigos, las c...         0\n",
      "4  Anoche salimos a cenar con mis amigos y disfru...         0\n",
      "                                               Texto  Sarcasmo\n",
      "0  Claro, todos llegarán a la hora acordada... se...         1\n",
      "1  Nada como organizar una cena y que la mitad ca...         1\n",
      "2  ¡Oh, genial! Todos olvidaron traer lo que prom...         1\n",
      "3  Qué suerte, el único día que puedo, nadie más ...         1\n",
      "4  Ah, claro, porque siempre es fácil ponerse de ...         1\n"
     ]
    }
   ],
   "source": [
    "def unir_frases_csv(directorio, es_sarcastico):\n",
    "    \n",
    "    # Crear una lista para almacenar los dataframes\n",
    "    dataframes = []\n",
    "\n",
    "    # Leer todos los archivos CSV que estén dentro del directorio\n",
    "    for filename in os.listdir(directorio):\n",
    "        if filename.endswith(\".csv\"):  # Solo selecciona los archivos CSV\n",
    "            # Leer el CSV\n",
    "            df = pd.read_csv(os.path.join(directorio, filename))\n",
    "            # Añadir la columna 'sarcasmos' con el valor correspondiente\n",
    "            df[\"sarcasmos\"] = es_sarcastico\n",
    "            # Cambiar el nombre de la columna existente a 'texto'\n",
    "            df.columns = [\"Texto\", \"Sarcasmo\"]\n",
    "            # Añadir el dataframe a la lista\n",
    "            dataframes.append(df)\n",
    "\n",
    "    # Unir todos los dataframes en uno solo\n",
    "    df_final = pd.concat(dataframes, ignore_index=True)\n",
    "    \n",
    "    return df_final\n",
    "\n",
    "df_no_sarcasticas = unir_frases_csv(\"Dialogos\\\\Frases_no_sarcasticas\", 0)\n",
    "print(df_no_sarcasticas.head())\n",
    "df_sarcasticas = unir_frases_csv(\"Dialogos\\\\Frases_sarcasticas\", 1)\n",
    "print(df_sarcasticas.head())"
   ]
  },
  {
   "cell_type": "markdown",
   "id": "b5f79061",
   "metadata": {},
   "source": [
    "#### Diálogos y noticias"
   ]
  },
  {
   "cell_type": "code",
   "execution_count": 3,
   "id": "93e49945",
   "metadata": {},
   "outputs": [],
   "source": [
    "import os\n",
    "import pandas as pd\n",
    "\n",
    "def unir_csv(directorio):\n",
    "    dataframes = []\n",
    "    \n",
    "    for filename in os.listdir(directorio):\n",
    "        # Leer el CSV\n",
    "        df = pd.read_csv(os.path.join(directorio, filename), sep=';')\n",
    "        \n",
    "        # Verificar cuántas columnas tiene el DataFrame\n",
    "        if len(df.columns) == 3:\n",
    "            # Si tiene 3 columnas, solo usar \"Frase Actual\" y \"Sarcasmo\"\n",
    "            df = df[['Frase Actual', 'Sarcasmo']]\n",
    "            df.columns = [\"Texto\", \"Sarcasmo\"]  # Renombrar columnas a \"texto\" y \"sarcasmo\"\n",
    "        elif len(df.columns) == 2:\n",
    "            # Si tiene 2 columnas, renombrar a \"texto\" y \"sarcasmo\"\n",
    "            df.columns = [\"Texto\", \"Sarcasmo\"]\n",
    "        \n",
    "        # Añadir el DataFrame procesado a la lista\n",
    "        dataframes.append(df)\n",
    "    \n",
    "    # Concatenar todos los DataFrames\n",
    "    df_final = pd.concat(dataframes, ignore_index=True)\n",
    "    \n",
    "    return df_final\n",
    "\n",
    "# Llamada a la función\n",
    "df_procesado = unir_csv(\"Dialogos/Dialogos procesados\")"
   ]
  },
  {
   "cell_type": "markdown",
   "id": "cf834164",
   "metadata": {},
   "source": [
    "Se concatenan los dataframes"
   ]
  },
  {
   "cell_type": "code",
   "execution_count": 4,
   "id": "9b34ac44",
   "metadata": {},
   "outputs": [],
   "source": [
    "dataframes = [df_no_sarcasticas, df_sarcasticas, df_procesado]\n",
    "\n",
    "df = pd.concat(dataframes, ignore_index=True)"
   ]
  },
  {
   "cell_type": "markdown",
   "id": "389ec757",
   "metadata": {},
   "source": [
    "Se eliminan duplicados y valores nulos."
   ]
  },
  {
   "cell_type": "code",
   "execution_count": 5,
   "id": "442e0c75",
   "metadata": {},
   "outputs": [],
   "source": [
    "df = df.drop_duplicates()\n",
    "df = df.dropna()"
   ]
  },
  {
   "cell_type": "markdown",
   "id": "45882ef8",
   "metadata": {},
   "source": [
    "Se normalizan los valores de la columna sarcasmo, se reemplazan valores no válidos por 0 o 1 y y se convierte todo de nuevo a enteros."
   ]
  },
  {
   "cell_type": "code",
   "execution_count": null,
   "id": "463d6fb5",
   "metadata": {},
   "outputs": [],
   "source": [
    "df.loc[:, 'Sarcasmo'] = df['Sarcasmo'].astype(str) \n",
    "df.loc[:, 'Sarcasmo'] = df['Sarcasmo'].replace({\n",
    "    '0.': '0', \n",
    "    '=': '0', \n",
    "    'e0': '0', \n",
    "    '1.': '1',\n",
    "    '0': '0', \n",
    "    '0 ': '0', \n",
    "    '1': '1', \n",
    "    '1 ': '1'\n",
    "})\n",
    "df.loc[:, 'Sarcasmo'] = df['Sarcasmo'].astype(int)"
   ]
  },
  {
   "cell_type": "markdown",
   "id": "8646dd54",
   "metadata": {},
   "source": [
    "Se filtra el DataFrame para eliminar filas donde la columna 'Texto' contenga la palabra 'Horóscopo'"
   ]
  },
  {
   "cell_type": "code",
   "execution_count": 7,
   "id": "2cc962f8",
   "metadata": {},
   "outputs": [],
   "source": [
    "df = df[~df['Texto'].str.contains(\"Horóscopo\", case=False, na=False)]"
   ]
  },
  {
   "cell_type": "markdown",
   "id": "85ead875",
   "metadata": {},
   "source": [
    "Se divide el DataFrame en dos partes: train y validation y se guardan los archivos asegurando que los textos estén entrecomillados si tienen comas."
   ]
  },
  {
   "cell_type": "code",
   "execution_count": 8,
   "id": "70c09de2",
   "metadata": {},
   "outputs": [],
   "source": [
    "train_df, validation_df = train_test_split(df, test_size=0.2, random_state=42)\n",
    "\n",
    "train_df.to_csv('train.csv', index=False, sep=',', quoting=1)\n",
    "validation_df.to_csv('validation.csv', index=False, sep=',', quoting=1)"
   ]
  },
  {
   "cell_type": "markdown",
   "id": "70c07907",
   "metadata": {},
   "source": [
    "Se guarda el CSV en el equipo"
   ]
  },
  {
   "cell_type": "code",
   "execution_count": 9,
   "id": "a4e291f8",
   "metadata": {},
   "outputs": [],
   "source": [
    "df.to_csv('Texto_procesado.csv', index=False,  sep=',', quoting=1)"
   ]
  },
  {
   "cell_type": "code",
   "execution_count": 10,
   "id": "504e1b7a",
   "metadata": {},
   "outputs": [
    {
     "data": {
      "text/html": [
       "<div>\n",
       "<style scoped>\n",
       "    .dataframe tbody tr th:only-of-type {\n",
       "        vertical-align: middle;\n",
       "    }\n",
       "\n",
       "    .dataframe tbody tr th {\n",
       "        vertical-align: top;\n",
       "    }\n",
       "\n",
       "    .dataframe thead th {\n",
       "        text-align: right;\n",
       "    }\n",
       "</style>\n",
       "<table border=\"1\" class=\"dataframe\">\n",
       "  <thead>\n",
       "    <tr style=\"text-align: right;\">\n",
       "      <th></th>\n",
       "      <th>Texto</th>\n",
       "      <th>Sarcasmo</th>\n",
       "    </tr>\n",
       "  </thead>\n",
       "  <tbody>\n",
       "    <tr>\n",
       "      <th>0</th>\n",
       "      <td>El fin de semana pasado salí con mis amigos y ...</td>\n",
       "      <td>0</td>\n",
       "    </tr>\n",
       "    <tr>\n",
       "      <th>1</th>\n",
       "      <td>Me encanta reunirme con mis amigos para ponern...</td>\n",
       "      <td>0</td>\n",
       "    </tr>\n",
       "    <tr>\n",
       "      <th>2</th>\n",
       "      <td>Este sábado tengo una quedada con amigos y est...</td>\n",
       "      <td>0</td>\n",
       "    </tr>\n",
       "    <tr>\n",
       "      <th>3</th>\n",
       "      <td>Siempre que nos reunimos con mis amigos, las c...</td>\n",
       "      <td>0</td>\n",
       "    </tr>\n",
       "    <tr>\n",
       "      <th>4</th>\n",
       "      <td>Anoche salimos a cenar con mis amigos y disfru...</td>\n",
       "      <td>0</td>\n",
       "    </tr>\n",
       "    <tr>\n",
       "      <th>...</th>\n",
       "      <td>...</td>\n",
       "      <td>...</td>\n",
       "    </tr>\n",
       "    <tr>\n",
       "      <th>24294</th>\n",
       "      <td>Un niño de siete años empieza a sospechar que ...</td>\n",
       "      <td>1</td>\n",
       "    </tr>\n",
       "    <tr>\n",
       "      <th>24295</th>\n",
       "      <td>Una señora cree realmente que su hija podría i...</td>\n",
       "      <td>1</td>\n",
       "    </tr>\n",
       "    <tr>\n",
       "      <th>24296</th>\n",
       "      <td>Miles de palomas españolas emigran a Alemania ...</td>\n",
       "      <td>1</td>\n",
       "    </tr>\n",
       "    <tr>\n",
       "      <th>24297</th>\n",
       "      <td>El Real Madrid ficha por error al actor Christ...</td>\n",
       "      <td>1</td>\n",
       "    </tr>\n",
       "    <tr>\n",
       "      <th>24298</th>\n",
       "      <td>Jesucristo se aparece en un capítulo de Los Si...</td>\n",
       "      <td>1</td>\n",
       "    </tr>\n",
       "  </tbody>\n",
       "</table>\n",
       "<p>19096 rows × 2 columns</p>\n",
       "</div>"
      ],
      "text/plain": [
       "                                                   Texto Sarcasmo\n",
       "0      El fin de semana pasado salí con mis amigos y ...        0\n",
       "1      Me encanta reunirme con mis amigos para ponern...        0\n",
       "2      Este sábado tengo una quedada con amigos y est...        0\n",
       "3      Siempre que nos reunimos con mis amigos, las c...        0\n",
       "4      Anoche salimos a cenar con mis amigos y disfru...        0\n",
       "...                                                  ...      ...\n",
       "24294  Un niño de siete años empieza a sospechar que ...        1\n",
       "24295  Una señora cree realmente que su hija podría i...        1\n",
       "24296  Miles de palomas españolas emigran a Alemania ...        1\n",
       "24297  El Real Madrid ficha por error al actor Christ...        1\n",
       "24298  Jesucristo se aparece en un capítulo de Los Si...        1\n",
       "\n",
       "[19096 rows x 2 columns]"
      ]
     },
     "execution_count": 10,
     "metadata": {},
     "output_type": "execute_result"
    }
   ],
   "source": [
    "df"
   ]
  }
 ],
 "metadata": {
  "kernelspec": {
   "display_name": "Python 3 (ipykernel)",
   "language": "python",
   "name": "python3"
  },
  "language_info": {
   "codemirror_mode": {
    "name": "ipython",
    "version": 3
   },
   "file_extension": ".py",
   "mimetype": "text/x-python",
   "name": "python",
   "nbconvert_exporter": "python",
   "pygments_lexer": "ipython3",
   "version": "3.11.5"
  }
 },
 "nbformat": 4,
 "nbformat_minor": 5
}
